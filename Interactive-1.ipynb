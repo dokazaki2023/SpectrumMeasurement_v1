{
 "cells": [
  {
   "cell_type": "markdown",
   "metadata": {
    "isInteractiveWindowMessageCell": true
   },
   "source": [
    "Python 3.11.0 に接続されました"
   ]
  },
  {
   "cell_type": "code",
   "execution_count": 1,
   "metadata": {},
   "outputs": [
    {
     "name": "stdout",
     "output_type": "stream",
     "text": [
      "接続可能なインターフェースは:\n",
      "('USB0::0xF4EC::0x1010::SDS2EDDD7R1135::INSTR',)\n",
      "Siglent Technologies,SDS2352X-E,SDS2EDDD7R1135,2.1.1.1.20 R3\n",
      "に接続しました\n",
      "Data Acquision system is ready\n"
     ]
    }
   ],
   "source": [
    "import pyvisa\n",
    "import time\n",
    "import numpy as np\n",
    "import time\n",
    "import serial\n",
    "from serial.tools import list_ports\n",
    "import threading\n",
    "import DK480_control, LI5640_control, SDS2352X_control\n",
    "\n",
    "REFRESH_SERIAL_READ = 1e-4\n",
    "WAIT_TIME = 1e-1\n",
    "\n",
    "        \n",
    "if __name__ == '__main__':\n",
    "    # CM110_control = DK480_control.DK480Control(port=\"COM6\", baudrate=9600)\n",
    "    # if CM110_control.connect():\n",
    "    #     print('Connected to CM110')\n",
    "    import SDS2352X_control # visaの取\n",
    "    inst_LI = SDS2352X_control.connect('USB0::0xF4EC::0x1010::SDS2EDDD7R1135::INSTR')\n",
    "    print('Data Acquision system is ready')"
   ]
  },
  {
   "cell_type": "code",
   "execution_count": 2,
   "metadata": {},
   "outputs": [
    {
     "data": {
      "text/plain": [
       "14"
      ]
     },
     "execution_count": 2,
     "metadata": {},
     "output_type": "execute_result"
    }
   ],
   "source": [
    "inst_LI.write('COMM_HEADER?')"
   ]
  },
  {
   "cell_type": "code",
   "execution_count": 3,
   "metadata": {},
   "outputs": [
    {
     "ename": "SyntaxError",
     "evalue": "unterminated string literal (detected at line 1) (<ipython-input-3-9b0ea9c53b4c>, line 1)",
     "output_type": "error",
     "traceback": [
      "\u001b[1;36m  File \u001b[1;32m\"<ipython-input-3-9b0ea9c53b4c>\"\u001b[1;36m, line \u001b[1;32m1\u001b[0m\n\u001b[1;33m    print(f'{inst_LI.query(\"COMM_HEADER?\")})\u001b[0m\n\u001b[1;37m          ^\u001b[0m\n\u001b[1;31mSyntaxError\u001b[0m\u001b[1;31m:\u001b[0m unterminated string literal (detected at line 1)\n"
     ]
    }
   ],
   "source": [
    "print(f'{inst_LI.query(\"COMM_HEADER?\")})"
   ]
  }
 ],
 "metadata": {
  "kernelspec": {
   "display_name": "Python 3",
   "language": "python",
   "name": "python3"
  },
  "language_info": {
   "codemirror_mode": {
    "name": "ipython",
    "version": 3
   },
   "file_extension": ".py",
   "mimetype": "text/x-python",
   "name": "python",
   "nbconvert_exporter": "python",
   "pygments_lexer": "ipython3",
   "version": "3.11.0"
  }
 },
 "nbformat": 4,
 "nbformat_minor": 2
}
